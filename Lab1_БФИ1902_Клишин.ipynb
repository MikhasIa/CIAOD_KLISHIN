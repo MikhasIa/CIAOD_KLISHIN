{
 "cells": [
  {
   "cell_type": "markdown",
   "metadata": {},
   "source": [
    "# Лабораторная работа №1"
   ]
  },
  {
   "cell_type": "markdown",
   "metadata": {},
   "source": [
    "## Выполнил студент группы БФИ1902 Клишин М.С."
   ]
  },
  {
   "cell_type": "markdown",
   "metadata": {},
   "source": [
    "### Цель лабораторной работы\n",
    "Познакомиться с функционалом Jupyter Notebook. Узнать и реализовать разные виды сортировок"
   ]
  },
  {
   "cell_type": "markdown",
   "metadata": {},
   "source": [
    "### Задание на лабораторную работу"
   ]
  },
  {
   "cell_type": "markdown",
   "metadata": {},
   "source": [
    "### Задание №1:\n",
    "1. Создать Jupyter Notebook со следующим наименованием: Lab1_Группа_ФИО\n",
    "2. Написать и запустить программу \"Hello World\" в новой ячейке\n",
    "\n",
    "### Задание №2:\n",
    "Написать генератор случайных матриц(многомерных), который принимает\n",
    "опциональные параметры m, n, min_limit, max_limit, где m и n указывают размер\n",
    "матрицы, а min_lim и max_lim - минимальное и максимальное значение для\n",
    "генерируемого числа . По умолчанию при отсутствии параметров принимать следующие\n",
    "значения:\n",
    "m = 50\n",
    "n = 50\n",
    "min_limit = -250\n",
    "max_limit = 1000 + (номер своего варианта)\n",
    "\n",
    "### Задание №3:\n",
    "Реализовать методы сортировки строк числовой матрицы в соответствии с\n",
    "заданием. Оценить время работы каждого алгоритма сортировки и сравнить его со\n",
    "временем стандартной функции сортировки. Испытания проводить на сгенерированных\n",
    "матрицах.\n",
    "Сортировки:\n",
    "1. Выбором\n",
    "2. Вставкой\n",
    "3. Обмена\n",
    "4. Шелла\n",
    "5. Турнирная\n",
    "6. Быстрая\n",
    "7. Пирамидальная\n",
    "\n",
    "### Задание №4:\n",
    "Создать публичный репозиторий на github, и запушить выполненное задание в\n",
    ".ipynb формате."
   ]
  },
  {
   "cell_type": "markdown",
   "metadata": {},
   "source": [
    "### Ход выполнение лабораторной работы"
   ]
  },
  {
   "cell_type": "markdown",
   "metadata": {},
   "source": [
    "### Задание №1"
   ]
  },
  {
   "cell_type": "code",
   "execution_count": 1,
   "metadata": {},
   "outputs": [
    {
     "name": "stdout",
     "output_type": "stream",
     "text": [
      "Hello World!\n"
     ]
    }
   ],
   "source": [
    "print(\"Hello World!\")"
   ]
  },
  {
   "cell_type": "markdown",
   "metadata": {},
   "source": [
    "### Задание №2\n",
    "Написать генератор случайных матриц(многомерных), который принимает\n",
    "опциональные параметры m, n, min_limit, max_limit, где m и n указывают размер\n",
    "матрицы, а min_lim и max_lim - минимальное и максимальное значение для\n",
    "генерируемого числа . По умолчанию при отсутствии параметров принимать следующие\n",
    "значения:\n",
    "m = 50\n",
    "n = 50\n",
    "min_limit = -250\n",
    "max_limit = 1000 + (номер своего варианта)"
   ]
  },
  {
   "cell_type": "code",
   "execution_count": 2,
   "metadata": {},
   "outputs": [
    {
     "name": "stdout",
     "output_type": "stream",
     "text": [
      "[[ 984   66  594 ...  973  896  590]\n",
      " [ 617  364   82 ...  178 -169  728]\n",
      " [ 403  -29 -107 ...  -75  517  434]\n",
      " ...\n",
      " [ 320  676  135 ... -225  496 -104]\n",
      " [ 242  325  990 ...  426  817  791]\n",
      " [ 728  567  976 ... -210  554   42]]\n",
      "Wall time: 148 ms\n"
     ]
    }
   ],
   "source": [
    "%%time\n",
    "from random import randint\n",
    "import numpy as np\n",
    "\n",
    "n=50\n",
    "m=50\n",
    "min=-250\n",
    "max=1005\n",
    "\n",
    "a=[[randint(min,max) for j in range(m)] for i in range(n)]\n",
    "an= np.asarray(a)\n",
    "print(an)\n"
   ]
  },
  {
   "cell_type": "markdown",
   "metadata": {},
   "source": [
    "### Задание №3\n",
    "Реализовать методы сортировки строк числовой матрицы в соответствии с\n",
    "заданием. Оценить время работы каждого алгоритма сортировки и сравнить его со\n",
    "временем стандартной функции сортировки. Испытания проводить на сгенерированных\n",
    "матрицах.\n",
    "Методы:\n",
    "Выбором Вставкой Обменом Шелла Турнирная Быстрая сортировка Пирамидальная"
   ]
  },
  {
   "cell_type": "markdown",
   "metadata": {},
   "source": [
    "### Сортировка Выбором"
   ]
  },
  {
   "cell_type": "code",
   "execution_count": 3,
   "metadata": {},
   "outputs": [
    {
     "name": "stdout",
     "output_type": "stream",
     "text": [
      "[[  20 -240  -31 ...  590   66  984]\n",
      " [-199 -197 -111 ...  823  953  958]\n",
      " [-143 -220   38 ...  988  988 1001]\n",
      " ...\n",
      " [-225 -216 -114 ...  676  988  997]\n",
      " [-197 -211   22 ...  325  990 1000]\n",
      " [-198 -210 -237 ...  728  976  986]]\n",
      "Wall time: 11.2 ms\n"
     ]
    }
   ],
   "source": [
    "%%time\n",
    "import numpy as np\n",
    "def sel(arr):\n",
    "    for i in range(len(arr)):\n",
    "        low=i\n",
    "        for j in range(i+1, len(arr)):\n",
    "            if arr[j]< arr[low]:\n",
    "                low=j\n",
    "                arr[i],arr[low]= arr[low], arr[i]\n",
    "k=0\n",
    "while k<n:\n",
    "    sel(a[k])\n",
    "    k=k+1\n",
    "an=np.asarray(a)\n",
    "print(an)"
   ]
  },
  {
   "cell_type": "markdown",
   "metadata": {},
   "source": [
    "### Сортировка вставкой"
   ]
  },
  {
   "cell_type": "code",
   "execution_count": 4,
   "metadata": {},
   "outputs": [
    {
     "name": "stdout",
     "output_type": "stream",
     "text": [
      "[[  20 -240  -31 ...  590   66  984]\n",
      " [-199 -197 -111 ...  823  953  958]\n",
      " [-143 -220   38 ...  988  988 1001]\n",
      " ...\n",
      " [-225 -216 -114 ...  676  988  997]\n",
      " [-197 -211   22 ...  325  990 1000]\n",
      " [-198 -210 -237 ...  728  976  986]]\n",
      "Wall time: 750 µs\n"
     ]
    }
   ],
   "source": [
    "%%time\n",
    "import numpy as np\n",
    "\n",
    "def insert(arr):\n",
    "    for i in range(1,len(arr)):\n",
    "        ins=arr[i]\n",
    "        j=i-1\n",
    "    while j >=0 and arr[i]>ins:\n",
    "        arr[j+1]=arr[j]\n",
    "        j=j-1\n",
    "        arr[j+1]=ins\n",
    "k=0\n",
    "while k<n:\n",
    "    insert(a[k])\n",
    "    k=k+1\n",
    "an=np.asarray(a)\n",
    "print(an)"
   ]
  },
  {
   "cell_type": "markdown",
   "metadata": {},
   "source": [
    "### Сортировка методом пузырька"
   ]
  },
  {
   "cell_type": "code",
   "execution_count": 5,
   "metadata": {},
   "outputs": [
    {
     "name": "stdout",
     "output_type": "stream",
     "text": [
      "[[-240 -209 -125 ...  941  973  984]\n",
      " [-209 -199 -197 ...  948  953  958]\n",
      " [-228 -220 -201 ...  988  988 1001]\n",
      " ...\n",
      " [-225 -216 -216 ...  984  988  997]\n",
      " [-246 -211 -197 ...  987  990 1000]\n",
      " [-237 -210 -198 ...  957  976  986]]\n",
      "Wall time: 12 ms\n"
     ]
    }
   ],
   "source": [
    "%%time\n",
    "import numpy as np\n",
    "def obmen(arr):\n",
    "    obm = True\n",
    "    while obm:\n",
    "        obm = False\n",
    "        for i in range(len(arr)-1):\n",
    "            if arr[i]> arr[i+1]:\n",
    "                arr[i], arr[i+1] = arr[i+1], arr[i]\n",
    "                obm= True\n",
    "k=0\n",
    "while k<n:\n",
    "    obmen(a[k])\n",
    "    k=k+1\n",
    "an= np.asarray(a)\n",
    "print(an)"
   ]
  },
  {
   "cell_type": "markdown",
   "metadata": {},
   "source": [
    "### Сортировка Шелла"
   ]
  },
  {
   "cell_type": "code",
   "execution_count": 6,
   "metadata": {},
   "outputs": [
    {
     "name": "stdout",
     "output_type": "stream",
     "text": [
      "[[-240 -209 -125 ...  941  973  984]\n",
      " [-209 -199 -197 ...  948  953  958]\n",
      " [-228 -220 -201 ...  988  988 1001]\n",
      " ...\n",
      " [-225 -216 -216 ...  984  988  997]\n",
      " [-246 -211 -197 ...  987  990 1000]\n",
      " [-237 -210 -198 ...  957  976  986]]\n",
      "Wall time: 749 µs\n"
     ]
    }
   ],
   "source": [
    "%%time\n",
    "import numpy as np\n",
    "\n",
    "def shell(arr):\n",
    "    inc = len(arr)//2\n",
    "    while inc:\n",
    "        for i, el in enumerate(arr):\n",
    "            while i>=inc and arr[i-inc]> el:\n",
    "                arr[i]= arr[i-inc]\n",
    "                i= i - inc\n",
    "                arr[i]=el\n",
    "                inc=int(inc//2)\n",
    "            return arr\n",
    "k=0\n",
    "while k<n:\n",
    "    shell(a[k])\n",
    "    k=k+1\n",
    "an=np.asarray(a)\n",
    "print(an)"
   ]
  },
  {
   "cell_type": "markdown",
   "metadata": {},
   "source": [
    "### Быстрая сортировка "
   ]
  },
  {
   "cell_type": "code",
   "execution_count": 8,
   "metadata": {},
   "outputs": [
    {
     "ename": "IndentationError",
     "evalue": "unexpected indent (<unknown>, line 10)",
     "output_type": "error",
     "traceback": [
      "Traceback \u001b[1;36m(most recent call last)\u001b[0m:\n",
      "  File \u001b[0;32m\"C:\\Users\\MIXA\\anaconda3\\lib\\site-packages\\IPython\\core\\interactiveshell.py\"\u001b[0m, line \u001b[0;32m3437\u001b[0m, in \u001b[0;35mrun_code\u001b[0m\n    exec(code_obj, self.user_global_ns, self.user_ns)\n",
      "  File \u001b[0;32m\"<ipython-input-8-d5dd65618a00>\"\u001b[0m, line \u001b[0;32m1\u001b[0m, in \u001b[0;35m<module>\u001b[0m\n    get_ipython().run_cell_magic('time', '', 'import numpy as np\\ndef quicksort(nums):\\n    if len(nums) <= 1:\\n        return nums\\n    else:\\n        q = random.choice(nums)\\n    s_nums = []\\n    m_nums = []\\n    e_nums = []\\n        for n in nums:\\n            if n < q:\\n                s_nums.append(n)\\n                elif n > q:\\n                    m_nums.append(n)\\n                    else:\\n                        e_nums.append(n)\\n                        return quicksort(s_nums) + e_nums + quicksort(m_nums)\\nk=0\\nwhile k<n:\\n    heapsort(a[k])\\n    k=k+1\\nan=np.asarray(a)\\nprint(an)\\n')\n",
      "  File \u001b[0;32m\"C:\\Users\\MIXA\\anaconda3\\lib\\site-packages\\IPython\\core\\interactiveshell.py\"\u001b[0m, line \u001b[0;32m2399\u001b[0m, in \u001b[0;35mrun_cell_magic\u001b[0m\n    result = fn(*args, **kwargs)\n",
      "  File \u001b[0;32m\"C:\\Users\\MIXA\\anaconda3\\lib\\site-packages\\decorator.py\"\u001b[0m, line \u001b[0;32m231\u001b[0m, in \u001b[0;35mfun\u001b[0m\n    return caller(func, *(extras + args), **kw)\n",
      "  File \u001b[0;32m\"C:\\Users\\MIXA\\anaconda3\\lib\\site-packages\\IPython\\core\\magic.py\"\u001b[0m, line \u001b[0;32m187\u001b[0m, in \u001b[0;35m<lambda>\u001b[0m\n    call = lambda f, *a, **k: f(*a, **k)\n",
      "  File \u001b[0;32m\"C:\\Users\\MIXA\\anaconda3\\lib\\site-packages\\IPython\\core\\magics\\execution.py\"\u001b[0m, line \u001b[0;32m1277\u001b[0m, in \u001b[0;35mtime\u001b[0m\n    expr_ast = self.shell.compile.ast_parse(expr)\n",
      "\u001b[1;36m  File \u001b[1;32m\"C:\\Users\\MIXA\\anaconda3\\lib\\site-packages\\IPython\\core\\compilerop.py\"\u001b[1;36m, line \u001b[1;32m101\u001b[1;36m, in \u001b[1;35mast_parse\u001b[1;36m\u001b[0m\n\u001b[1;33m    return compile(source, filename, symbol, self.flags | PyCF_ONLY_AST, 1)\u001b[0m\n",
      "\u001b[1;36m  File \u001b[1;32m\"<unknown>\"\u001b[1;36m, line \u001b[1;32m10\u001b[0m\n\u001b[1;33m    for n in nums:\u001b[0m\n\u001b[1;37m    ^\u001b[0m\n\u001b[1;31mIndentationError\u001b[0m\u001b[1;31m:\u001b[0m unexpected indent\n"
     ]
    }
   ],
   "source": [
    "%%time\n",
    "import numpy as np\n",
    "def quicksort(nums):\n",
    "    if len(nums) <= 1:\n",
    "        return nums\n",
    "    else:\n",
    "        q = random.choice(nums)\n",
    "    s_nums = []\n",
    "    m_nums = []\n",
    "    e_nums = []\n",
    "    for n in nums:\n",
    "        if n < q:\n",
    "            s_nums.append(n)\n",
    "            elif n > q:\n",
    "                m_nums.append(n) else:\n",
    "                        e_nums.append(n)\n",
    "                        return quicksort(s_nums) + e_nums + quicksort(m_nums)\n",
    "k=0\n",
    "while k<n:\n",
    "    heapsort(a[k])\n",
    "    k=k+1\n",
    "an=np.asarray(a)\n",
    "print(an)"
   ]
  },
  {
   "cell_type": "markdown",
   "metadata": {},
   "source": [
    "### Пирамидальная сортировка"
   ]
  },
  {
   "cell_type": "code",
   "execution_count": null,
   "metadata": {},
   "outputs": [],
   "source": [
    "%%time\n",
    "import numpy as np\n",
    "def heapsort(alist):\n",
    "build_max_heap(alist)\n",
    "for i in range(len(alist) - 1, 0, -1):\n",
    "alist[0], alist[i] = alist[i], alist[0]\n",
    "max_heapify(alist, index=0, size=i)\n",
    "\n",
    "def parent(i):\n",
    "return (i - 1)//2\n",
    "\n",
    "def left(i):\n",
    "return 2*i + 1\n",
    "\n",
    "def right(i):\n",
    "return 2*i + 2\n",
    "\n",
    "def build_max_heap(alist):\n",
    "length = len(alist)\n",
    "start = parent(length - 1)\n",
    "while start >= 0:\n",
    "max_heapify(alist, index=start, size=length)\n",
    "start = start - 1\n",
    "\n",
    "def max_heapify(alist, index, size):\n",
    "l = left(index)\n",
    "r = right(index)\n",
    "if (l < size and alist[l] > alist[index]):\n",
    "largest = l\n",
    "else:\n",
    "largest = index\n",
    "if (r < size and alist[r] > alist[largest]):\n",
    "largest = r\n",
    "if (largest != index):\n",
    "alist[largest], alist[index] = alist[index], alist[largest]\n",
    "max_heapify(alist, largest, size)\n",
    "k=0\n",
    "while k<n:\n",
    "heapsort(a[k])\n",
    "k=k+1\n",
    "an=np.asarray(a)\n",
    "print(an)"
   ]
  },
  {
   "cell_type": "markdown",
   "metadata": {},
   "source": [
    "### Турнирная сортировка"
   ]
  },
  {
   "cell_type": "code",
   "execution_count": null,
   "metadata": {},
   "outputs": [],
   "source": [
    "%%time\n",
    "import numpy as np\n",
    "\n",
    "def tournamentSort(arr):\n",
    "tree = [None] * 2 * (len(arr) + len(arr) % 2)\n",
    "index = len(tree) - len(arr) - len(arr) % 2\n",
    "\n",
    "for i, v in enumerate(arr):\n",
    "tree[index + i] = (i, v)\n",
    "\n",
    "for j in range(len(arr)):\n",
    "n = len(arr)\n",
    "index = len(tree) - len(arr) - len(arr) % 2\n",
    "while index > -1:\n",
    "n = (n + 1) // 2\n",
    "for i in range(n):\n",
    "i = max(index + i * 2, 1)\n",
    "if tree[i] is not None and tree[i + 1] is not None:\n",
    "if tree[i] < tree[i + 1]:\n",
    "tree[i // 2] = tree[i]\n",
    "else:\n",
    "tree[i // 2] = tree[i + 1]\n",
    "else:\n",
    "tree[i // 2] = tree[i] if tree[i] is not None else tree[i + 1]\n",
    "index -= n\n",
    "\n",
    "index, x = tree[0]\n",
    "arr[j] = x\n",
    "tree[len(tree) - len(arr) - len(arr) % 2 + index] = None\n",
    "\n",
    "k=0\n",
    "while k<n:\n",
    "tournamentSort(a[k])\n",
    "k=k+1\n",
    "an=np.asarray(a)\n",
    "print(an)"
   ]
  },
  {
   "cell_type": "markdown",
   "metadata": {},
   "source": [
    "### Вывод\n",
    "В процессе выполнения данной лабораторной работы мы познакомились с базовым функционалом Jupyter Notebook и реализовали разные виды сортировок"
   ]
  }
 ],
 "metadata": {
  "kernelspec": {
   "display_name": "Python 3",
   "language": "python",
   "name": "python3"
  },
  "language_info": {
   "codemirror_mode": {
    "name": "ipython",
    "version": 3
   },
   "file_extension": ".py",
   "mimetype": "text/x-python",
   "name": "python",
   "nbconvert_exporter": "python",
   "pygments_lexer": "ipython3",
   "version": "3.8.8"
  }
 },
 "nbformat": 4,
 "nbformat_minor": 4
}

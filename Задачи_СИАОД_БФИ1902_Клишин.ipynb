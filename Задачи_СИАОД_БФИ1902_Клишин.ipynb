{
 "cells": [
  {
   "cell_type": "markdown",
   "metadata": {},
   "source": [
    "# Задания СИАОД"
   ]
  },
  {
   "cell_type": "markdown",
   "metadata": {},
   "source": [
    "## Выполнил студент группы БФИ1902 Клишин М.С."
   ]
  },
  {
   "cell_type": "markdown",
   "metadata": {},
   "source": [
    "### Задача 1. «Треугольник с максимальным периметром»"
   ]
  },
  {
   "cell_type": "markdown",
   "metadata": {},
   "source": [
    "Массив A состоит из целых положительных чисел длин\n",
    "отрезков. Составьте из трех отрезков\n",
    "такой треугольник, чтобы его периметр был максимально возможным. Если невозможно\n",
    "составить треугольник с положительной площадью функция\n",
    "возвращает 0.\n",
    "1. Пример 1.1:\n",
    "Ввод: [2,1,2]\n",
    "Вывод: 5\n",
    "2. Пример 1.2:\n",
    "Ввод: [1,2,1]\n",
    "Вывод: 0\n",
    "3. Пример 1.3:\n",
    "Ввод: [3,2,3,4]\n",
    "Вывод: 10\n",
    "4. Пример 1.4:\n",
    "Ввод: [3,6,2,3]\n",
    "Вывод: 8\n",
    "5. Ограничения:\n",
    "3 ⩽ len(A) ⩽ 10000 ;\n",
    "1 ⩽ A[i] ⩽ 10^6"
   ]
  },
  {
   "cell_type": "code",
   "execution_count": 1,
   "metadata": {},
   "outputs": [
    {
     "name": "stdout",
     "output_type": "stream",
     "text": [
      "triangle max perimeter:\n",
      "[2, 1, 2] 5\n",
      "[1, 2, 1] 0\n",
      "[3, 2, 3, 4] 10\n",
      "[3, 6, 2, 3] 8\n"
     ]
    }
   ],
   "source": [
    "def triangle_max_perimeter(sides: list) -> int:\n",
    "    sorted_sides = sorted(sides)\n",
    "\n",
    "    while len(sorted_sides) > 2:\n",
    "        max_three_sides = sorted_sides[-3:]\n",
    "\n",
    "        if max_three_sides[2] ** 2 > max_three_sides[1] ** 2 + max_three_sides[0] ** 2:\n",
    "            sorted_sides.pop()\n",
    "        else:\n",
    "            return sum(max_three_sides)\n",
    "\n",
    "    return 0\n",
    "\n",
    "\n",
    "print('triangle max perimeter:')\n",
    "\n",
    "print([2, 1, 2], triangle_max_perimeter([2, 1, 2]))\n",
    "print([1, 2, 1], triangle_max_perimeter([1, 2, 1]))\n",
    "print([3, 2, 3, 4], triangle_max_perimeter([3, 2, 3, 4]))\n",
    "print([3, 6, 2, 3], triangle_max_perimeter([3, 6, 2, 3]))"
   ]
  },
  {
   "cell_type": "markdown",
   "metadata": {},
   "source": [
    "### Задача 2. «Максимальное число»"
   ]
  },
  {
   "cell_type": "markdown",
   "metadata": {},
   "source": [
    "Дан массив неотрицательных целых чисел nums. Расположите их в таком порядке, чтобы\n",
    "вместе они образовали максимально возможное число.\n",
    "Замечание: Результат может быть очень большим числом, поэтому представьте его как\n",
    "string, а не integer.\n",
    "1. Пример 2.1:\n",
    "Ввод: nums = [10,2]\n",
    "Вывод: ”210”\n",
    "2. Пример 2.2:\n",
    "Ввод: nums = [3,30,34,5,9]\n",
    "Вывод: ”9534330”\n",
    "3. Пример 2.3:\n",
    "Ввод: nums = [1]\n",
    "Вывод: ”1”\n",
    "4. Пример 2.4:\n",
    "Ввод: nums = [10]\n",
    "Вывод: ”10”\n",
    "5. Ограничения:\n",
    "1 ⩽ len(nums) ⩽ 100 ;\n",
    "0 ⩽ nums[i] ⩽ 10^9"
   ]
  },
  {
   "cell_type": "code",
   "execution_count": 2,
   "metadata": {},
   "outputs": [
    {
     "name": "stdout",
     "output_type": "stream",
     "text": [
      "max number:\n",
      "[10, 2, 0, 0, -1] 21000\n",
      "[3, 30, 34, 5, 9] 9534330\n",
      "[1] 1\n",
      "[10] 10\n",
      "[10, 15, 9, 99, 8, 8888, 7, 65, 90] 99990888887651510\n"
     ]
    }
   ],
   "source": [
    "def max_number(nums: list) -> str:\n",
    "    for i in range(len(nums)):\n",
    "        if nums[i] < 0:\n",
    "            nums.pop(i)\n",
    "\n",
    "    str_nums = [str(num) for num in nums]\n",
    "    sorted_str_nums = sort_str_list(str_nums)\n",
    "    reversed_sorted_str_nums = [string for string in reversed(sorted_str_nums)]\n",
    "\n",
    "    return ''.join(reversed_sorted_str_nums)\n",
    "\n",
    "\n",
    "def sort_str_list(strings: list) -> list:\n",
    "    for i in range(len(strings)):\n",
    "        for j in range(len(strings) - i - 1):\n",
    "            if compare_str(strings[j], strings[j + 1]) == 1:\n",
    "                strings[j], strings[j + 1] = strings[j + 1], strings[j]\n",
    "\n",
    "    return strings\n",
    "\n",
    "\n",
    "def compare_str(str1: str, str2: str) -> int:\n",
    "    if str1 == str2:\n",
    "        return 0\n",
    "\n",
    "    i = 0\n",
    "    j = 0\n",
    "\n",
    "    while True:\n",
    "        if (i == len(str1) - 1 and j == len(str2) - 1) and (str1[i] == str2[j]):\n",
    "            return i > j\n",
    "\n",
    "        if str1[i] > str2[j]:\n",
    "            return 1\n",
    "\n",
    "        if str2[j] > str1[i]:\n",
    "            return -1\n",
    "\n",
    "        if i < len(str1) - 1:\n",
    "            i += 1\n",
    "\n",
    "        if j < len(str2) - 1:\n",
    "            j += 1\n",
    "\n",
    "            \n",
    "print('max number:')\n",
    "\n",
    "print([10, 2, 0, 0, -1], max_number([10, 2,0,0,-1]))\n",
    "print([3, 30, 34, 5, 9], max_number([3, 30, 34, 5, 9]))\n",
    "print([1], max_number([1]))\n",
    "print([10], max_number([10]))\n",
    "print([10, 15, 9, 99, 8, 8888, 7, 65, 90], max_number([10, 15, 9, 99, 8, 8888, 7, 65, 90]))"
   ]
  },
  {
   "cell_type": "markdown",
   "metadata": {},
   "source": [
    "### Задача 3. «Сортировка диагоналей в матрице»"
   ]
  },
  {
   "cell_type": "markdown",
   "metadata": {},
   "source": [
    "Дана матрица mat размером m * n, значения целочисленные.\n",
    "Напишите функцию, сортирующую\n",
    "каждую диагональ матрицы по возрастанию и возвращающую получившуюся матрицу.\n",
    "1. Пример 3.1:\n",
    "Ввод: mat = [[3, 3, 1, 1], [2, 2, 1, 2], [1, 1, 1, 2]]\n",
    "Вывод: [[1, 1, 1, 1], [1, 2, 2, 2], [1, 2, 3, 3]]\n",
    "2. Пример 3.2:\n",
    "Ввод: mat = [[11, 25, 66, 1, 69, 7], [23, 55, 17, 45, 15, 52], [75, 31, 36,\n",
    "44, 58, 8], [22, 27, 33, 25, 68, 4], [84, 28, 14, 11, 5, 50]]\n",
    "Вывод: [[5, 17, 4, 1, 52, 7], [11, 11, 25, 45, 8, 69], [14, 23, 25, 44, 58,\n",
    "15], [22, 27, 31, 36, 50, 66], [84, 28, 75, 33, 55, 68]]\n",
    "3. Ограничения:\n",
    "m == len(mat) ;\n",
    "n == len(mat[i]) ;\n",
    "1 ⩽ m, n ⩽ 100 ;\n",
    "1 ⩽ mat[i][j] ⩽ 100 ;"
   ]
  },
  {
   "cell_type": "code",
   "execution_count": 3,
   "metadata": {},
   "outputs": [
    {
     "name": "stdout",
     "output_type": "stream",
     "text": [
      "\n",
      "sort matrix diagonals:\n",
      "\n",
      "matrix:\n",
      "[16, 15, 14, 13]\n",
      "[12, 11, 10, 9]\n",
      "[8, 7, 6, 5]\n",
      "[4, 3, 2, 1]\n",
      "\n",
      "sorted matrix:\n",
      "[1, 5, 9, 13]\n",
      "[2, 6, 10, 14]\n",
      "[3, 7, 11, 15]\n",
      "[4, 8, 12, 16]\n"
     ]
    }
   ],
   "source": [
    "def sort_matrix_diagonals(matrix):\n",
    "    diagonals = get_matrix_diagonals(matrix)\n",
    "    sorted_diagonals = [sorted(diagonal) for diagonal in diagonals]\n",
    "    sorted_matrix = change_matrix_diagonals(matrix, sorted_diagonals)\n",
    "\n",
    "    return sorted_matrix\n",
    "\n",
    "\n",
    "def get_matrix_diagonals(matrix):\n",
    "    diagonals = []\n",
    "\n",
    "    for x in range(len(matrix)):\n",
    "        i = x\n",
    "        j = 0\n",
    "        diagonal = []\n",
    "\n",
    "        while (i < len(matrix)) and (j < len(matrix[0])):\n",
    "            diagonal.append(matrix[i][j])\n",
    "            i += 1\n",
    "            j += 1\n",
    "\n",
    "        diagonals.append(diagonal)\n",
    "\n",
    "    for y in range(1, len(matrix[0])):\n",
    "        i = 0\n",
    "        j = y\n",
    "        diagonal = []\n",
    "\n",
    "        while (i < len(matrix)) and (j < len(matrix[0])):\n",
    "            diagonal.append(matrix[i][j])\n",
    "            i += 1\n",
    "            j += 1\n",
    "\n",
    "        diagonals.append(diagonal)\n",
    "\n",
    "    return diagonals\n",
    "\n",
    "\n",
    "def change_matrix_diagonals(matrix, diagonals):\n",
    "    changed_matrix = matrix\n",
    "    dx = 0\n",
    "\n",
    "    for x in range(len(changed_matrix)):\n",
    "        i = x\n",
    "        j = 0\n",
    "        dy = 0\n",
    "\n",
    "        while (i < len(changed_matrix)) and (j < len(changed_matrix[0])):\n",
    "            changed_matrix[i][j] = diagonals[dx][dy]\n",
    "            i += 1\n",
    "            j += 1\n",
    "            dy += 1\n",
    "\n",
    "        dx += 1\n",
    "\n",
    "    for y in range(1, len(changed_matrix[0])):\n",
    "        i = 0\n",
    "        j = y\n",
    "        dy = 0\n",
    "\n",
    "        while (i < len(changed_matrix)) and (j < len(changed_matrix[0])):\n",
    "            changed_matrix[i][j] = diagonals[dx][dy]\n",
    "            i += 1\n",
    "            j += 1\n",
    "            dy += 1\n",
    "\n",
    "        dx += 1\n",
    "\n",
    "    return changed_matrix\n",
    "\n",
    "\n",
    "def print_matrix(matrix):\n",
    "    for i in range(len(matrix)):\n",
    "        print(matrix[i])\n",
    "        \n",
    "\n",
    "test_matrix = [[16, 15, 14, 13], [12, 11, 10, 9], [8, 7, 6, 5], [4, 3, 2, 1]]\n",
    "\n",
    "print('')\n",
    "print('sort matrix diagonals:')\n",
    "print('')\n",
    "\n",
    "print('matrix:')\n",
    "print_matrix(test_matrix)\n",
    "\n",
    "print('')\n",
    "print('sorted matrix:')\n",
    "print_matrix(sort_matrix_diagonals(test_matrix))"
   ]
  },
  {
   "cell_type": "markdown",
   "metadata": {},
   "source": [
    "### Задача 4. «Шарики и стрелы»"
   ]
  },
  {
   "cell_type": "markdown",
   "metadata": {},
   "source": [
    "Некоторые сферические шарики распределены по двухмерному пространству. Для каждого\n",
    "шарика даны xкоординаты\n",
    "начала и конца его горизонтального диаметра. Так как пространство\n",
    "двумерно, то yкоординаты\n",
    "не имеют значения в данной задаче. Координата xstart всегда меньше\n",
    "xend.\n",
    "Стрелу можно выстрелить строго вертикально (вдоль yоси)\n",
    "из разных точек xоси.\n",
    "Шарик\n",
    "с координатами xstart и xend уничтожается стрелой, если она была выпущена из такой позиции\n",
    "x, что xstart ⩽ x ⩽ xend. Когда стрела выпущена, она летит в пространстве бесконечное время\n",
    "(уничтожая все шарики на пути).\n",
    "Дан массив points, где points[i] = [xstart, xend]. Напишите функцию, возвращающую\n",
    "минимальное количество стрел, которые нужно выпустить, чтобы уничтожить все шарики.\n",
    "1. Пример 1.1:\n",
    "Ввод: points = [[10,16],[2,8],[1,6],[7,12]]\n",
    "Вывод: 2\n",
    "2. Пример 1.2:\n",
    "Ввод: points = [[1,2],[3,4],[5,6],[7,8]]\n",
    "Вывод: 4\n",
    "3. Пример 1.3:\n",
    "Ввод: points = [[1,2],[2,3],[3,4],[4,5]]\n",
    "Вывод: 2\n",
    "4. Пример 1.4:\n",
    "Ввод: points = [[1,2]]\n",
    "Вывод: 1\n",
    "5. Пример 1.5:\n",
    "Ввод: points = [[2,3],[2,3]]\n",
    "Вывод: 1\n",
    "6. Ограничения:\n",
    "0 ⩽ len(points) ⩽ 10^4 ;\n",
    "len(points[i]) == 2 ;\n",
    "−2^31 ⩽ xstart < xend ⩽ 2^31 − 1"
   ]
  },
  {
   "cell_type": "code",
   "execution_count": 4,
   "metadata": {},
   "outputs": [
    {
     "name": "stdout",
     "output_type": "stream",
     "text": [
      "Минимальное количество стрел\n",
      "[[10, 16], [2, 8], [1, 6], [7, 12]]: 2\n",
      "[[1, 2], [3, 4], [5, 6], [7, 8]]: 4\n",
      "[[1, 2], [2, 3], [3, 4], [4, 5]]: 2\n",
      "[[1, 2]]: 1\n",
      "[[2, 3], [2, 3]]: 1\n"
     ]
    }
   ],
   "source": [
    "def count_arrows_for_balloons(coordinates):\n",
    "    arrows = 0\n",
    "    last_intersections = coordinates\n",
    "\n",
    "    while True:\n",
    "        included_sections = []\n",
    "        curr_intersections = []\n",
    "\n",
    "        for i in range(0, len(last_intersections) - 1):\n",
    "            if last_intersections[i] is not None:\n",
    "                xi_start = last_intersections[i][0]\n",
    "                xi_end = last_intersections[i][1]\n",
    "\n",
    "                for j in range(i + 1, len(last_intersections)):\n",
    "                    if last_intersections[j] is not None:\n",
    "                        xj_start = last_intersections[j][0]\n",
    "                        xj_end = last_intersections[j][1]\n",
    "\n",
    "                        if not (xi_end < xj_start or xi_start > xj_end):\n",
    "                            if xi_start > xj_start:\n",
    "                                if xi_end < xj_end:\n",
    "                                    curr_intersections.append([xi_start, xi_end])\n",
    "                                else:\n",
    "                                    curr_intersections.append([xi_start, xj_end])\n",
    "                            else:\n",
    "                                if xi_end < xj_end:\n",
    "                                    curr_intersections.append([xj_start, xi_end])\n",
    "                                else:\n",
    "                                    curr_intersections.append([xj_start, xj_end])\n",
    "\n",
    "                            last_intersections[j] = None\n",
    "                            included_sections.append(last_intersections[i])\n",
    "\n",
    "        for i in range(len(last_intersections)):\n",
    "            if (last_intersections[i] is not None) and (last_intersections[i] not in included_sections):\n",
    "                arrows += 1\n",
    "\n",
    "        if len(curr_intersections) == 0:\n",
    "            return arrows + len(curr_intersections)\n",
    "\n",
    "        last_intersections = curr_intersections\n",
    "\n",
    "\n",
    "print('Минимальное количество стрел')\n",
    "print('[[10, 16], [2, 8], [1, 6], [7, 12]]:', count_arrows_for_balloons([[10, 16], [2, 8], [1, 6], [7, 12]]))\n",
    "print('[[1, 2], [3, 4], [5, 6], [7, 8]]:', count_arrows_for_balloons([[1, 2], [3, 4], [5, 6], [7, 8]]))\n",
    "print('[[1, 2], [2, 3], [3, 4], [4, 5]]:', count_arrows_for_balloons([[1, 2], [2, 3], [3, 4], [4, 5]]))\n",
    "print('[[1, 2]]:', count_arrows_for_balloons([[1, 2]]))\n",
    "print('[[2, 3], [2, 3]]:', count_arrows_for_balloons([[2, 3], [2, 3]]))"
   ]
  },
  {
   "cell_type": "markdown",
   "metadata": {},
   "source": [
    "### Задачи со строками"
   ]
  },
  {
   "cell_type": "markdown",
   "metadata": {},
   "source": [
    "### Задача 1 "
   ]
  },
  {
   "cell_type": "markdown",
   "metadata": {},
   "source": [
    "Даны две строки: s1 и s2 с одинаковым размером, проверьте, может ли\n",
    "некоторая перестановка строки s1 “победить” некоторую перестановку\n",
    "строки s2 или наоборот.\n",
    "Строка x может “победить” строку y (обе имеют размер n), если x[i]> = y\n",
    "[i] (в алфавитном порядке) для всех i от 0 до n-1.\n",
    "Примеры:\n",
    "1. Input: s1 = \"abc\", s2 = \"xya\"\n",
    "Output: true\n",
    "Объяснение: «ayx» - это перестановка строки s2 = «xya»,\n",
    "которая “побеждает” строку s1 = «abc».\n",
    "2. Input: s1 = \"abe\", s2 = \"acd\"\n",
    "Output: false\n",
    "Объяснение: Все перестановки для s1 = \"abe\": \"abe\", \"aeb\",\n",
    "\"bae\", \"bea\", \"eab\" и \"eba\", а все перестановки для s2 =\n",
    "\"acd\": \"acd\", «adc», «cad», «cda», «dac» и «ca». Однако нет\n",
    "никакой перестановки строки s1, которая может нарушить\n",
    "некоторую перестановку строки s2 и наоборот.\n",
    "3. s1.length == n ;\n",
    "s2.length == n ;\n",
    "1 <= n <= 10^5"
   ]
  },
  {
   "cell_type": "code",
   "execution_count": 5,
   "metadata": {},
   "outputs": [
    {
     "name": "stdout",
     "output_type": "stream",
     "text": [
      "abc , xua: True\n",
      "abe , acd: False\n"
     ]
    }
   ],
   "source": [
    "def find_min_winner_char_index(s, char):\n",
    "    min_winner_char = ''\n",
    "    min_winner_char_index = -1\n",
    "\n",
    "    for i in range(len(s)):\n",
    "        if s[i] >= char:\n",
    "            if min_winner_char == '':\n",
    "                min_winner_char = s[i]\n",
    "            elif min_winner_char > s[i]:\n",
    "                min_winner_char = s[i]\n",
    "\n",
    "            min_winner_char_index = i\n",
    "        else:\n",
    "            return min_winner_char_index\n",
    "\n",
    "    return min_winner_char_index\n",
    "\n",
    "\n",
    "def is_str_winner(string1, string2):\n",
    "    sorted_list_s1 = sorted(list(string1))\n",
    "    sorted_list_s2 = sorted(list(string2))\n",
    "    sorted_list_s1.reverse()\n",
    "    sorted_list_s2.reverse()\n",
    "\n",
    "    for i in range(len(sorted_list_s1)):\n",
    "        str_index = find_min_winner_char_index(sorted_list_s2, sorted_list_s1[i])\n",
    "\n",
    "        if str_index == -1:\n",
    "            return False\n",
    "        else:\n",
    "            del sorted_list_s2[str_index]\n",
    "\n",
    "    return True\n",
    "\n",
    "\n",
    "print('abc , xua:', is_str_winner('abc', 'xya'))\n",
    "print('abe , acd:', is_str_winner('abe', 'acd'))"
   ]
  },
  {
   "cell_type": "markdown",
   "metadata": {},
   "source": [
    "### Задача 2"
   ]
  },
  {
   "cell_type": "markdown",
   "metadata": {},
   "source": [
    "Дана строка s, вернуть самую длинную полиндромную подстроку в s.\n",
    "Примеры:\n",
    "1. Input: s = \"babad\"\n",
    "Output: \"bab\"\n",
    "Note: \"aba\" is also a valid answer.\n",
    "2. Input: s = \"cbbd\"\n",
    "Output: \"bb\""
   ]
  },
  {
   "cell_type": "code",
   "execution_count": 6,
   "metadata": {},
   "outputs": [
    {
     "name": "stdout",
     "output_type": "stream",
     "text": [
      "Max palindrome:\n",
      "babad: bab\n",
      "cbbd: bb\n"
     ]
    }
   ],
   "source": [
    "def is_palindrome(string):\n",
    "    length = len(string)\n",
    "\n",
    "    if length <= 1:  # Возвращает True, если строка является палиндромом\n",
    "        return False\n",
    "\n",
    "    for i in range(length):\n",
    "        if string[i] != string[length - 1 - i]:\n",
    "            return False\n",
    "\n",
    "    return True\n",
    "\n",
    "\n",
    "def find_max_palindrome(s):\n",
    "    length = len(s)\n",
    "    max_palindrome = ''\n",
    "    max_palindrome_length = 0\n",
    "\n",
    "    for i in range(length):\n",
    "        for j in range(i, length):\n",
    "            substring = s[i:j + 1]\n",
    "\n",
    "            if is_palindrome(substring):\n",
    "                if max_palindrome_length < len(substring):\n",
    "                    max_palindrome_length = len(substring)\n",
    "                    max_palindrome = substring\n",
    "            else:\n",
    "                continue\n",
    "\n",
    "    return max_palindrome\n",
    "\n",
    "\n",
    "print('Max palindrome:')\n",
    "print('babad:', find_max_palindrome('babad'))\n",
    "print('cbbd:', find_max_palindrome('cbbd'))"
   ]
  },
  {
   "cell_type": "markdown",
   "metadata": {},
   "source": [
    "### Задача 3"
   ]
  },
  {
   "cell_type": "markdown",
   "metadata": {},
   "source": [
    "Вернуть количество отдельных непустых подстрок текста, которые могут\n",
    "быть записаны как конкатенация некоторой строки с самой собой (т.е. она\n",
    "может быть записана, как a + a, где a - некоторая строка).\n",
    "Примеры:\n",
    "1. Input: text = \"abcabcabc\"\n",
    "Output: 3\n",
    "Explanation: The 3 substrings are \"abcabc\", \"bcabca\"\n",
    "and \"cabcab\"."
   ]
  },
  {
   "cell_type": "code",
   "execution_count": 7,
   "metadata": {},
   "outputs": [
    {
     "name": "stdout",
     "output_type": "stream",
     "text": [
      "Количесто строк, образованных из суммы своих подстрок:\n",
      "abcabcabc: 3\n"
     ]
    }
   ],
   "source": [
    "def is_concat(s):\n",
    "    if len(s) < 2 or len(s) % 2 != 0:\n",
    "        return False\n",
    "\n",
    "    for i in range(len(s) // 2 - 1, -1, -1):\n",
    "        if s[i] != s[i + len(s) // 2]:\n",
    "            return False\n",
    "\n",
    "    return True\n",
    "\n",
    "\n",
    "def get_concat_substring_count(s):\n",
    "    count = 0\n",
    "    length = len(s)\n",
    "    substrings = []\n",
    "\n",
    "    for i in range(length):\n",
    "        for j in range(i, length):\n",
    "            substring = s[i:j + 1]\n",
    "\n",
    "            if is_concat(substring):\n",
    "                if substring not in substrings:\n",
    "                    count += 1\n",
    "                    substrings.append(substring)\n",
    "            else:\n",
    "                continue\n",
    "\n",
    "    return count\n",
    "\n",
    "\n",
    "print('Количесто строк, образованных из суммы своих подстрок:')\n",
    "print('abcabcabc:', get_concat_substring_count('abcabcabc'))"
   ]
  },
  {
   "cell_type": "markdown",
   "metadata": {},
   "source": [
    "### Задача 1. «Стопки монет»"
   ]
  },
  {
   "cell_type": "markdown",
   "metadata": {},
   "source": [
    "На столе стоят 3n стопок монет. Вы и ваши друзья Алиса и Боб забираете стопки монет по\n",
    "следующему алгоритму:\n",
    "1. Вы выбираете 3 стопки монет из оставшихся на столе.\n",
    "2. Алиса забирает себе стопку с максимальным количеством монет.\n",
    "3. Вы забираете одну из двух оставшихся стопок.\n",
    "4. Боб забирает последнюю стопку.\n",
    "5. Если еще остались стопки, то действия повторяются с первого шага.\n",
    "\n",
    "Дан массив целых положительных чисел piles. Напишите функцию, возвращающую максимальное\n",
    "число монет, которое вы можете получить.\n",
    "1. Пример 1.1:\n",
    "Ввод: piles = [2,4,1,2,7,8]\n",
    "Вывод: 9\n",
    "2. Пример 1.2:\n",
    "Ввод: piles = [2,4,5]\n",
    "Вывод: 4\n",
    "3. Пример 1.3:\n",
    "Ввод: piles = [9,8,7,6,5,1,2,3,4]\n",
    "Вывод: 18\n",
    "4. Ограничения:\n",
    "3 ⩽ len(piles) ⩽ 10^5 ;\n",
    "len(piles) mod 3 == 0 ;\n",
    "1 ⩽ piles[i] ⩽ 10^4"
   ]
  },
  {
   "cell_type": "code",
   "execution_count": 8,
   "metadata": {},
   "outputs": [
    {
     "name": "stdout",
     "output_type": "stream",
     "text": [
      "Суммарное количество монет у второго игрока:\n",
      "[2, 4, 1, 2, 7, 8]: 9\n",
      "[2, 4, 5]: 4\n",
      "[9, 8, 7, 6, 5, 1, 2, 3, 4]: 18\n"
     ]
    }
   ],
   "source": [
    "def get_max_pile_index(piles: list):\n",
    "    max_pile = float('-INF')\n",
    "    max_pile_index = -1\n",
    "\n",
    "    for i in range(len(piles)):\n",
    "        if piles[i] > max_pile:\n",
    "            max_pile = piles[i]\n",
    "            max_pile_index = i\n",
    "\n",
    "    return max_pile_index\n",
    "\n",
    "\n",
    "def get_min_pile_index(piles: list):\n",
    "    min_pile = float('INF')\n",
    "    min_pile_index = -1\n",
    "\n",
    "    for i in range(len(piles)):\n",
    "        if piles[i] < min_pile:\n",
    "            min_pile = piles[i]\n",
    "            min_pile_index = i\n",
    "\n",
    "    return min_pile_index\n",
    "\n",
    "\n",
    "def get_max_player_sum(piles: list):\n",
    "    player_sum = 0\n",
    "\n",
    "    while len(piles) > 2:\n",
    "        max_pile_index = get_max_pile_index(piles)\n",
    "        del piles[max_pile_index]\n",
    "\n",
    "        mid_pile_index = get_max_pile_index(piles)\n",
    "        player_sum += piles[mid_pile_index]\n",
    "        del piles[mid_pile_index]\n",
    "\n",
    "        min_pile_index = get_min_pile_index(piles)\n",
    "        del piles[min_pile_index]\n",
    "\n",
    "    return player_sum\n",
    "\n",
    "\n",
    "print('Суммарное количество монет у второго игрока:')\n",
    "print('[2, 4, 1, 2, 7, 8]:', get_max_player_sum([2, 4, 1, 2, 7, 8]))\n",
    "print('[2, 4, 5]:', get_max_player_sum([2, 4, 5]))\n",
    "print('[9, 8, 7, 6, 5, 1, 2, 3, 4]:', get_max_player_sum([9, 8, 7, 6, 5, 1, 2, 3, 4]))"
   ]
  }
 ],
 "metadata": {
  "kernelspec": {
   "display_name": "Python 3",
   "language": "python",
   "name": "python3"
  },
  "language_info": {
   "codemirror_mode": {
    "name": "ipython",
    "version": 3
   },
   "file_extension": ".py",
   "mimetype": "text/x-python",
   "name": "python",
   "nbconvert_exporter": "python",
   "pygments_lexer": "ipython3",
   "version": "3.8.8"
  }
 },
 "nbformat": 4,
 "nbformat_minor": 4
}

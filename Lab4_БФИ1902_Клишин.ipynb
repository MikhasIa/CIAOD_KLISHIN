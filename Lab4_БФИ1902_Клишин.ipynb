{
 "cells": [
  {
   "cell_type": "markdown",
   "metadata": {},
   "source": [
    "# Лабораторная работа №4"
   ]
  },
  {
   "cell_type": "markdown",
   "metadata": {},
   "source": [
    "## Выполнил студент группы БФИ1902 Клишин М.С."
   ]
  },
  {
   "cell_type": "markdown",
   "metadata": {},
   "source": [
    "### Цель лабораторной работы\n",
    "Познакомиться со следующими структурами данных: стек, дек. Реализовать данные структуры на языке программирования Python."
   ]
  },
  {
   "cell_type": "markdown",
   "metadata": {},
   "source": [
    "## Реализовать следующие структуры данных:\n",
    "\n",
    "● Стек (stack):\n",
    "операции для стека: инициализация, проверка на пустоту, добавление нового элемента в начало, извлечение элемента из начала;\n",
    "\n",
    "● Дек (двусторонняя очередь, deque):\n",
    "операции для дека: инициализация, проверка на пустоту, добавление нового элемента в начало, добавление нового элемента в конец,\n",
    "извлечение элемента из начала, извлечение элемента из конца."
   ]
  },
  {
   "cell_type": "markdown",
   "metadata": {},
   "source": [
    "## Задания:\n",
    "\n",
    "1. Отсортировать строки файла, содержащие названия книг, в алфавитном порядке с использованием двух деков.\n",
    "\n",
    "2. Дек содержит последовательность символов для шифровки сообщений. Дан текстовый файл, содержащий зашифрованное сообщение. Пользуясь деком, расшифровать текст. Известно, что при шифровке каждый символ сообщения заменялся следующим за ним в деке по часовой стрелке через один.\n",
    "\n",
    "3. Даны три стержня и n дисков различного размера. Диски можно надевать на стержни, образуя из них башни. Перенести n дисков со стержня А на стержень С, сохранив их первоначальный порядок. При переносе дисков необходимо соблюдатьследующие правила:\n",
    "- на каждом шаге со стержня на стержень переносить только один диск;\n",
    "- диск нельзя помещать на диск меньшего размера;\n",
    "- для промежуточного хранения можно использовать стержень В.\n",
    "Реализовать алгоритм, используя три стека вместо стержней А, В, С. Информация о дисках хранится в исходном файле.\n",
    "\n",
    "4. Дан текстовый файл с программой на алгоритмическом языке. За один просмотр файла проверить баланс круглых скобок в тексте, используя стек.\n",
    "\n",
    "5. Дан текстовый файл с программой на алгоритмическом языке. За один просмотр файла проверить баланс квадратных скобок в тексте, используя дек.\n",
    "\n",
    "6. Дан файл из символов. Используя стек, за один просмотр файла напечатать сначала все цифры, затем все буквы, и, наконец, все остальные символы, сохраняя исходный порядок в каждой группе символов.\n",
    "\n",
    "7. Дан файл из целых чисел. Используя дек, за один просмотр файла напечатать сначала все отрицательные числа, затем все положительные числа, сохраняя исходный порядок в каждой группе.\n",
    "\n",
    "8. Дан текстовый файл. Используя стек, сформировать новый текстовый файл, содержащий строки исходного файла, записанные в обратном порядке: первая строка становится последней, вторая – предпоследней и т.д.\n",
    "\n",
    "9. Дан текстовый файл. Используя стек, вычислить значение логического выражения, записанного в текстовом файле в следующей форме:\n",
    "< ЛВ > ::= T | F | (N<ЛВ>) | (<ЛВ>A<ЛВ>) | (<ЛВ>X<ЛВ>) | (<ЛВ>O<ЛВ>),\n",
    "где буквами обозначены логические константы и операции:\n",
    "T – True, F – False, N – Not, A – And, X – Xor, O – Or.\n",
    "\n",
    "10. Дан текстовый файл. В текстовом файле записана формула следующего вида:\n",
    "<Формула> ::= <Цифра> | M(<Формула>,<Формула>) | N(Формула>,<Формула>)\n",
    "< Цифра > ::= 0 | 1 | 2 | 3 | 4 | 5 | 6 | 7 | 8 | 9\n",
    "где буквами обозначены функции:\n",
    "M – определение максимума, N – определение минимума.\n",
    "Используя стек, вычислить значение заданного выражения.\n",
    "\n",
    "11. Дан текстовый файл. Используя стек, проверить, является ли содержимое\n",
    "текстового файла правильной записью формулы вида:\n",
    "< Формула > ::= < Терм > | < Терм > + < Формула > | < Терм > - < Формула >\n",
    "< Терм > ::= < Имя > | (< Формула >)\n",
    "< Имя > ::= x | y | z"
   ]
  },
  {
   "cell_type": "markdown",
   "metadata": {},
   "source": [
    "### Реализация стека и дека"
   ]
  },
  {
   "cell_type": "code",
   "execution_count": 1,
   "metadata": {},
   "outputs": [],
   "source": [
    "class ListItem:\n",
    "    next = None\n",
    "    prev = None\n",
    "    value = None\n",
    "\n",
    "    def __init__(self, value, prev=None, next=None):\n",
    "        self.value = value\n",
    "        self.prev = prev\n",
    "        self.next = next\n",
    "\n",
    "\n",
    "#Стек\n",
    "class Stack:\n",
    "    end = None\n",
    "\n",
    "    def __init__(self):\n",
    "        self.end = ListItem(None)\n",
    "\n",
    "    def push(self, value):\n",
    "        new_end = ListItem(value, self.end)\n",
    "        self.end = new_end\n",
    "\n",
    "    def pop(self):\n",
    "        value = self.end.value\n",
    "\n",
    "        if self.end.prev is not None:\n",
    "            self.end = self.end.prev\n",
    "\n",
    "        return value\n",
    "\n",
    "    def peek(self):\n",
    "        return self.end.value\n",
    "\n",
    "    def is_empty(self):\n",
    "        return self.end.value is None\n",
    "\n",
    "    def reverse(self):\n",
    "        tmp_stack = Stack()\n",
    "        tmp_stack2 = Stack()\n",
    "\n",
    "        while not self.is_empty():\n",
    "            tmp_stack.push(self.pop())\n",
    "\n",
    "        while not tmp_stack.is_empty():\n",
    "            tmp_stack2.push(tmp_stack.pop())\n",
    "\n",
    "        while not tmp_stack2.is_empty():\n",
    "            self.push(tmp_stack2.pop())\n",
    "        \n",
    "    def length(self):\n",
    "        l = 0\n",
    "        tmp_stack = Stack()\n",
    "        \n",
    "        while not self.is_empty():\n",
    "            tmp_stack.push(self.pop())\n",
    "            l+=1\n",
    "\n",
    "        while not tmp_stack.is_empty():\n",
    "            self.push(tmp_stack.pop())\n",
    "            \n",
    "        return l\n",
    "        \n",
    "#Очередь с двойной связью (Дек)\n",
    "class Dequeue:\n",
    "    start = None\n",
    "    end = None\n",
    "\n",
    "    def __init__(self, n=1000):\n",
    "        self.start = self.end = ListItem(None)\n",
    "\n",
    "    def push_back(self, value):\n",
    "        if self.end.value is None:\n",
    "            self.end.value = value\n",
    "        else:\n",
    "            new_end = ListItem(value, self.end)\n",
    "            self.end.next = new_end\n",
    "            self.end = new_end\n",
    "\n",
    "    def push_front(self, value):\n",
    "        if self.start.value is None:\n",
    "            self.start.value = value\n",
    "        else:\n",
    "            new_start = ListItem(value, None, self.start)\n",
    "            self.start.prev = new_start\n",
    "            self.start = new_start\n",
    "\n",
    "    def pop_back(self):\n",
    "        value = self.end.value\n",
    "\n",
    "        if self.end.prev is not None:\n",
    "            self.end = self.end.prev\n",
    "            self.end.next = None\n",
    "        else:\n",
    "            self.end = self.start = ListItem(None)\n",
    "\n",
    "        return value\n",
    "\n",
    "    def pop_front(self):\n",
    "        value = self.start.value\n",
    "\n",
    "        if self.start.next is not None:\n",
    "            self.start = self.start.next\n",
    "            self.start.prev = None\n",
    "        else:\n",
    "            self.start = self.end = ListItem(None)\n",
    "\n",
    "        return value\n",
    "\n",
    "    def is_empty(self):\n",
    "        return (self.start.value is None) and (self.end.value is None)"
   ]
  },
  {
   "cell_type": "markdown",
   "metadata": {},
   "source": [
    "### Задание №1\n",
    "\n",
    "Отсортировать строки файла, содержащие названия книг, в алфавитном порядке сиспользованием двух деков."
   ]
  },
  {
   "cell_type": "code",
   "execution_count": 2,
   "metadata": {},
   "outputs": [
    {
     "name": "stdout",
     "output_type": "stream",
     "text": [
      "['Harry Poter', 'Martin Eden', 'Nineteen Eighty-Four', 'Robinson Crusoe', 'The Adventures Of Tom Sawyer', 'The Hound of the Baskervilles', 'War and Pease']\n"
     ]
    }
   ],
   "source": [
    "def sort_books(strings: list):\n",
    "    sorted_strings = []\n",
    "    main_dequeue = Dequeue()\n",
    "    tmp_dequeue = Dequeue()\n",
    "\n",
    "    for i in range(len(strings)):\n",
    "        last_item = main_dequeue.pop_back()\n",
    "\n",
    "        while (last_item is not None) and (strings[i] < last_item):\n",
    "            tmp_dequeue.push_back(last_item)\n",
    "            last_item = main_dequeue.pop_back()\n",
    "\n",
    "        if last_item is not None:\n",
    "            main_dequeue.push_back(last_item)\n",
    "\n",
    "        main_dequeue.push_back(strings[i])\n",
    "\n",
    "        item = tmp_dequeue.pop_back()\n",
    "\n",
    "        while item is not None:\n",
    "            main_dequeue.push_back(item)\n",
    "            item = tmp_dequeue.pop_back()\n",
    "\n",
    "    item = main_dequeue.pop_front()\n",
    "\n",
    "    while item is not None:\n",
    "        sorted_strings.append(item)\n",
    "        item = main_dequeue.pop_front()\n",
    "\n",
    "    return sorted_strings\n",
    "\n",
    "\n",
    "strings = ['Harry Poter', 'War and Pease', 'The Hound of the Baskervilles', 'Robinson Crusoe', 'The Adventures Of Tom Sawyer', 'Nineteen Eighty-Four', 'Martin Eden']\n",
    "print(sort_books(strings))"
   ]
  },
  {
   "cell_type": "markdown",
   "metadata": {},
   "source": [
    "### Задание № 2\n",
    "\n",
    "Дек содержит последовательность символов для шифровки сообщений. Дан текстовый файл, содержащий зашифрованное сообщение. Пользуясь деком, расшифровать текст. Известно, что при шифровке каждый символ сообщения заменялся следующим за ним в деке по часовой стрелке через один."
   ]
  },
  {
   "cell_type": "code",
   "execution_count": 3,
   "metadata": {},
   "outputs": [
    {
     "name": "stdout",
     "output_type": "stream",
     "text": [
      "igs\n"
     ]
    }
   ],
   "source": [
    "def encrypt_text(text: str):\n",
    "    decrypted_text = ''\n",
    "    crypt_key = 'abcdefghigklmnopqrstuvwxyz'\n",
    "    dequeue = Dequeue()\n",
    "\n",
    "    for i in range(len(crypt_key)):\n",
    "        dequeue.push_back(crypt_key[i])\n",
    "\n",
    "    for i in range(len(text)):\n",
    "        char = None\n",
    "\n",
    "        while char != text[i]:\n",
    "            char = dequeue.pop_front()\n",
    "            dequeue.push_back(char)\n",
    "\n",
    "        for j in range(3):\n",
    "            dequeue.push_front(dequeue.pop_back())\n",
    "\n",
    "        original_char = dequeue.pop_front()\n",
    "        dequeue.push_back(original_char)\n",
    "\n",
    "        decrypted_text += original_char\n",
    "\n",
    "    return decrypted_text\n",
    "\n",
    "\n",
    "print(encrypt_text('klu'))"
   ]
  },
  {
   "cell_type": "markdown",
   "metadata": {},
   "source": [
    "### Задание №3\n",
    "\n",
    "Даны три стержня и n дисков различного размера. Диски можно надевать на стержни, образуя из них башни. Перенести n дисков со стержня А на стержень С, сохранив их первоначальный порядок. При переносе дисков необходимо соблюдать следующие правила:\n",
    "\n",
    "на каждом шаге со стержня на стержень переносить только один диск;\n",
    "диск нельзя помещать на диск меньшего размера;\n",
    "для промежуточного хранения можно использовать стержень В. Реализовать алгоритм, используя три стека вместо стержней А, В, С. Информация о дисках хранится в исходном файле."
   ]
  },
  {
   "cell_type": "code",
   "execution_count": 4,
   "metadata": {},
   "outputs": [
    {
     "name": "stdout",
     "output_type": "stream",
     "text": [
      "1\n",
      "2\n",
      "3\n",
      "4\n",
      "5\n",
      "6\n",
      "7\n",
      "8\n",
      "9\n",
      "10\n"
     ]
    }
   ],
   "source": [
    "def move(a, b):\n",
    "    if a.length() == 0 and b.length() > 0:\n",
    "        a.push(b.pop())\n",
    "    elif a.length() > 0 and b.length() == 0:\n",
    "        b.push(a.pop())\n",
    "    elif a.peek() > b.peek():\n",
    "        a.push(b.pop())\n",
    "    else:\n",
    "        b.push(a.pop())\n",
    "\n",
    "\n",
    "A = Stack()\n",
    "B = Stack()\n",
    "C = Stack()\n",
    "\n",
    "disks = 10\n",
    "\n",
    "for i in range(disks, 0, -1):\n",
    "    A.push(i)\n",
    "\n",
    "if disks % 2 == 0:\n",
    "    while C.length() != disks:\n",
    "        move(A, B)\n",
    "        move(A, C)\n",
    "        move(B, C)\n",
    "else:\n",
    "    while C.length() != disks:\n",
    "        move(A, C)\n",
    "        move(A, B)\n",
    "        move(B, C)\n",
    "\n",
    "while not C.is_empty():\n",
    "    print(C.pop())"
   ]
  },
  {
   "cell_type": "markdown",
   "metadata": {},
   "source": [
    "### Задание №4\n",
    "\n",
    "Дан текстовый файл с программой на алгоритмическом языке. За один просмотр файла проверить баланс круглых скобок в тексте, используя стек."
   ]
  },
  {
   "cell_type": "code",
   "execution_count": 5,
   "metadata": {},
   "outputs": [
    {
     "name": "stdout",
     "output_type": "stream",
     "text": [
      "True\n",
      "True\n"
     ]
    }
   ],
   "source": [
    "def has_parenthesis_balance(string):\n",
    "    stack = Stack()\n",
    "\n",
    "    for i in range(len(string)):\n",
    "        if string[i] == '(':\n",
    "            stack.push('(')\n",
    "\n",
    "        if string[i] == ')':\n",
    "            stack.pop()\n",
    "\n",
    "    return stack.is_empty()\n",
    "\n",
    "\n",
    "print(has_parenthesis_balance('sfkgldfjg(asdfas)dfkjskld(asd)'))\n",
    "print(has_parenthesis_balance('dflsjfklsdj(kldjflksdf)asdf(asdads)afk)'))"
   ]
  },
  {
   "cell_type": "markdown",
   "metadata": {},
   "source": [
    "### Задание №5\n",
    "\n",
    "Дан текстовый файл с программой на алгоритмическом языке. За один просмотр файла проверить баланс квадратных скобок в тексте, используя дек."
   ]
  },
  {
   "cell_type": "code",
   "execution_count": 6,
   "metadata": {},
   "outputs": [
    {
     "name": "stdout",
     "output_type": "stream",
     "text": [
      "True\n",
      "False\n"
     ]
    }
   ],
   "source": [
    "def has_square_brackets_balance(string):\n",
    "    dequeue = Dequeue()\n",
    "\n",
    "    for i in range(len(string)):\n",
    "        if string[i] == '[':\n",
    "            dequeue.push_front('[')\n",
    "\n",
    "        if string[i] == ']':\n",
    "            dequeue.push_back(']')\n",
    "\n",
    "    opened_bracket = '['\n",
    "\n",
    "    while opened_bracket == '[':\n",
    "        closed_bracket = dequeue.pop_back()\n",
    "\n",
    "        if closed_bracket == ']':\n",
    "            opened_bracket = dequeue.pop_front()\n",
    "        else:\n",
    "            dequeue.push_back(closed_bracket)\n",
    "            break\n",
    "\n",
    "    return dequeue.is_empty()\n",
    "\n",
    "\n",
    "print(has_square_brackets_balance('asmkl[asda]asfg[asdggd]'))\n",
    "print(has_square_brackets_balance('dfnh[jlskdh[]}'))"
   ]
  },
  {
   "cell_type": "markdown",
   "metadata": {},
   "source": [
    "### Задание №6\n",
    "\n",
    "Дан файл из символов. Используя стек, за один просмотр файла напечатать сначала все цифры, затем все буквы, и, наконец, все остальные символы, сохраняя исходный порядок в каждой группе символов."
   ]
  },
  {
   "cell_type": "code",
   "execution_count": 7,
   "metadata": {},
   "outputs": [
    {
     "name": "stdout",
     "output_type": "stream",
     "text": [
      "3523423kfjsdljfhlshjkhjsakj\n"
     ]
    }
   ],
   "source": [
    "def separate_string_content(string):\n",
    "    final_string = ''\n",
    "    digits = Stack()\n",
    "    letters = Stack()\n",
    "    special_chars = Stack()\n",
    "\n",
    "    for i in range(len(string)):\n",
    "        char = string[i]\n",
    "\n",
    "        if ord(char) in range(ord('0'), ord('9') + 1):\n",
    "            digits.push(char)\n",
    "        elif ord(char) in range(ord('A'), ord('z') + 1):\n",
    "            letters.push(char)\n",
    "        else:\n",
    "            special_chars.push(char)\n",
    "\n",
    "    digits.reverse()\n",
    "    letters.reverse()\n",
    "    special_chars.reverse()\n",
    "\n",
    "    while not digits.is_empty():\n",
    "        final_string += digits.pop()\n",
    "\n",
    "    while not letters.is_empty():\n",
    "        final_string += letters.pop()\n",
    "\n",
    "    while not special_chars.is_empty():\n",
    "        final_string += special_chars.pop()\n",
    "\n",
    "    return final_string\n",
    "\n",
    "\n",
    "print(separate_string_content('kfjsdljfhls3hjkh523jsa42kj3'))"
   ]
  },
  {
   "cell_type": "markdown",
   "metadata": {},
   "source": [
    "### Задание №7\n",
    "\n",
    "Дан файл из целых чисел. Используя дек, за один просмотр файла напечатать сначала все отрицательные числа, затем все положительные числа, сохраняя исходный порядок в каждой группе."
   ]
  },
  {
   "cell_type": "code",
   "execution_count": 8,
   "metadata": {},
   "outputs": [
    {
     "name": "stdout",
     "output_type": "stream",
     "text": [
      "-9 -22 12 1 12 44 97 6 \n"
     ]
    }
   ],
   "source": [
    "def separate_string_numbers(string):\n",
    "    final_string = ''\n",
    "    numbers = Dequeue()\n",
    "    string_numbers = string.split()\n",
    "\n",
    "    for i in range(len(string_numbers)):\n",
    "        number = int(string_numbers[i])\n",
    "\n",
    "        if number < 0:\n",
    "            numbers.push_back(number)\n",
    "        else:\n",
    "            numbers.push_front(number)\n",
    "\n",
    "    number = numbers.pop_front()\n",
    "\n",
    "    while number >= 0:\n",
    "        numbers.push_back(number)\n",
    "        number = numbers.pop_front()\n",
    "\n",
    "    final_string += str(number) + ' '\n",
    "\n",
    "    while number < 0:\n",
    "        number = numbers.pop_front()\n",
    "        final_string += str(number) + ' '\n",
    "\n",
    "    while not numbers.is_empty():\n",
    "        number = numbers.pop_back()\n",
    "        final_string += str(number) + ' '\n",
    "\n",
    "    return final_string\n",
    "\n",
    "\n",
    "print(separate_string_numbers('1 -9 12 44 97 6 -22 12'))"
   ]
  },
  {
   "cell_type": "markdown",
   "metadata": {},
   "source": [
    "### Задание №8\n",
    "\n",
    "Дан текстовый файл. Используя стек, сформировать новый текстовый файл, содержащий строки исходного файла, записанные в обратном порядке: первая строка становится последней, вторая – предпоследней и т.д."
   ]
  },
  {
   "cell_type": "code",
   "execution_count": 9,
   "metadata": {},
   "outputs": [
    {
     "name": "stdout",
     "output_type": "stream",
     "text": [
      "['klmn', 'efgh', 'abcd']\n"
     ]
    }
   ],
   "source": [
    "def revert_strings(strings: list):\n",
    "    reverted_strings = []\n",
    "    stack = Stack()\n",
    "\n",
    "    for i in range(len(strings)):\n",
    "        stack.push(strings[i])\n",
    "\n",
    "    while not stack.is_empty():\n",
    "        reverted_strings.append(stack.pop())\n",
    "\n",
    "    return reverted_strings\n",
    "\n",
    "\n",
    "print(revert_strings(['abcd', 'efgh', 'klmn']))"
   ]
  },
  {
   "cell_type": "markdown",
   "metadata": {},
   "source": [
    "### Задание №9\n",
    "\n",
    "Дан текстовый файл. Используя стек, вычислить значение логического выражения, записанного в текстовом файле в следующей форме: < ЛВ > ::= T | F | (N<ЛВ>) | (<ЛВ>A<ЛВ>) | (<ЛВ>X<ЛВ>) | (<ЛВ>O<ЛВ>), где буквами обозначены логические константы и операции: T – True, F – False, N – Not, A – And, X – Xor, O – Or."
   ]
  },
  {
   "cell_type": "code",
   "execution_count": 10,
   "metadata": {},
   "outputs": [
    {
     "name": "stdout",
     "output_type": "stream",
     "text": [
      "T\n"
     ]
    }
   ],
   "source": [
    "text = '(TO(TAF)OF)'\n",
    "\n",
    "opstack = Stack()\n",
    "vstack = Stack()\n",
    "\n",
    "cur = 0\n",
    "while True:\n",
    "    read = False\n",
    "    if not opstack.is_empty():\n",
    "        # N равно последнему значению стека ?\n",
    "        if opstack.peek() == 'N':\n",
    "            if vstack.is_empty():\n",
    "                read = True\n",
    "            else:\n",
    "                # T равно последнему значению стека ?\n",
    "                if vstack.pop() == 'T':\n",
    "                    vstack.push('F')\n",
    "                else:\n",
    "                    vstack.push('T')\n",
    "                opstack.pop()\n",
    "        elif opstack.peek() == 'A':\n",
    "            if vstack.length() < 2:\n",
    "                read = True\n",
    "            else:\n",
    "                a = vstack.pop()\n",
    "                b = vstack.pop()\n",
    "                if a == b and b == 'T':\n",
    "                    vstack.push('T')\n",
    "                else:\n",
    "                    vstack.push('F')\n",
    "                opstack.pop()\n",
    "        elif opstack.peek() == 'O':\n",
    "            if vstack.length() < 2:\n",
    "                read = True\n",
    "            else:\n",
    "                a = vstack.pop()\n",
    "                b = vstack.pop()\n",
    "                if a == 'T' or b == 'T':\n",
    "                    vstack.push('T')\n",
    "                else:\n",
    "                    vstack.push('F')\n",
    "                opstack.pop()\n",
    "        elif opstack.peek() == 'X':\n",
    "            if vstack.length() < 2:\n",
    "                read = True\n",
    "            else:\n",
    "                a = vstack.pop()\n",
    "                b = vstack.pop()\n",
    "                if a != b:\n",
    "                    vstack.push('T')\n",
    "                else:\n",
    "                    vstack.push('F')\n",
    "                opstack.pop()\n",
    "        elif opstack.peek() == '(':\n",
    "            read = True\n",
    "        elif opstack.peek() == ')':\n",
    "            opstack.pop()\n",
    "            opstack.pop()\n",
    "    else:\n",
    "        read = True\n",
    "    if read:\n",
    "        i = text[cur]\n",
    "        if i in 'FT':\n",
    "            vstack.push(i)\n",
    "        if i in 'AXON()':\n",
    "            opstack.push(i)\n",
    "        cur += 1\n",
    "    \n",
    "\n",
    "    if cur == len(text) and opstack.length() == 0:\n",
    "        break\n",
    "\n",
    "while not vstack.is_empty():\n",
    "    print(vstack.pop())"
   ]
  },
  {
   "cell_type": "markdown",
   "metadata": {},
   "source": [
    "### Задание №10\n",
    "\n",
    "Дан текстовый файл. В текстовом файле записана формула следующего вида: <Формула> ::= <Цифра> | M(<Формула>,<Формула>) | N(Формула>,<Формула>) < Цифра > ::= 0 | 1 | 2 | 3 | 4 | 5 | 6 | 7 | 8 | 9 где буквами обозначены функции: M – определение максимума, N – определение минимума. Используя стек, вычислить значение заданного выражения."
   ]
  },
  {
   "cell_type": "code",
   "execution_count": 11,
   "metadata": {},
   "outputs": [
    {
     "name": "stdout",
     "output_type": "stream",
     "text": [
      "6\n"
     ]
    }
   ],
   "source": [
    "text = 'M(N(11, 6), 4)'\n",
    "\n",
    "stack = Stack()\n",
    "def max_min(text, stack):\n",
    "    for ch in text[::-1]:\n",
    "        if ch == 'M':\n",
    "            stack.push(max(stack.pop(), stack.pop()))\n",
    "        elif ch == 'N':\n",
    "            stack.push(min(stack.pop(), stack.pop()))\n",
    "        elif ch.isdigit():\n",
    "            stack.push(ch)\n",
    "        else:\n",
    "            continue\n",
    "    return stack.peek()\n",
    "\n",
    "print(max_min(text, stack))"
   ]
  },
  {
   "cell_type": "markdown",
   "metadata": {},
   "source": [
    "### Задание №11\n",
    "\n",
    "Дан текстовый файл. Используя стек, проверить, является ли содержимое текстового файла правильной записью формулы вида:\n",
    "< Формула > ::= < Терм > | < Терм > + < Формула > | < Терм > - < Формула >\n",
    "< Терм > ::= < Имя > | (< Формула >)\n",
    "< Имя > ::= x | y | z"
   ]
  },
  {
   "cell_type": "code",
   "execution_count": 12,
   "metadata": {},
   "outputs": [
    {
     "name": "stdout",
     "output_type": "stream",
     "text": [
      "False\n",
      "True\n"
     ]
    }
   ],
   "source": [
    "def task11(term):\n",
    "    signs = Stack()\n",
    "    names = Stack()\n",
    "\n",
    "    for i in range(len(term)):\n",
    "        char = term[i]\n",
    "                \n",
    "        if char in ['x', 'y', 'z']:\n",
    "            if signs.is_empty() and not names.is_empty():\n",
    "                return False\n",
    "            signs.pop()\n",
    "            names.push(char)\n",
    "        elif char in ['+', '-']:\n",
    "            if names.is_empty():\n",
    "                return False\n",
    "            names.pop()\n",
    "            signs.push(char)\n",
    "        elif char == '(':\n",
    "            if signs.is_empty():\n",
    "                return False\n",
    "        elif char == ')':\n",
    "            if not signs.is_empty():\n",
    "                return False\n",
    "        else:\n",
    "            return False\n",
    "\n",
    "    return has_parenthesis_balance(term)\n",
    "\n",
    "\n",
    "print(task11('x(+y'))\n",
    "print(task11('x+y'))"
   ]
  },
  {
   "cell_type": "markdown",
   "metadata": {},
   "source": [
    "### Вывод\n",
    "В данной лабораторной работе мы познакомились со следующими структурами данных: стек, дек."
   ]
  }
 ],
 "metadata": {
  "kernelspec": {
   "display_name": "Python 3",
   "language": "python",
   "name": "python3"
  },
  "language_info": {
   "codemirror_mode": {
    "name": "ipython",
    "version": 3
   },
   "file_extension": ".py",
   "mimetype": "text/x-python",
   "name": "python",
   "nbconvert_exporter": "python",
   "pygments_lexer": "ipython3",
   "version": "3.8.8"
  }
 },
 "nbformat": 4,
 "nbformat_minor": 4
}
